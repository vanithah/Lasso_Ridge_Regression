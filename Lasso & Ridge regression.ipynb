{
 "cells": [
  {
   "cell_type": "markdown",
   "metadata": {},
   "source": [
    "## What is linear regression?\n",
    "In simple terms, linear regression is a method of finding the best straight line fitting to the given data, \n",
    "i.e. finding the best linear relationship between the independent and dependent variables.\n",
    "In technical terms, linear regression is a machine learning algorithm that finds the best linear-fit \n",
    "relationship on any given data, between independent and dependent variables. It is mostly done by the \n",
    "Sum of Squared Residuals Method.\n",
    "\n",
    "In this technique, the dependent variable is continuous, independent variable(s) can be continuous or discrete, \n",
    "and nature of regression line is linear.\n"
   ]
  },
  {
   "cell_type": "code",
   "execution_count": 35,
   "metadata": {},
   "outputs": [],
   "source": [
    "from sklearn.datasets import load_boston\n",
    "import pandas as pd\n",
    "import numpy as np\n",
    "import seaborn as sb\n",
    "from sklearn.model_selection import train_test_split\n",
    "from sklearn.linear_model import LinearRegression"
   ]
  },
  {
   "cell_type": "code",
   "execution_count": 36,
   "metadata": {},
   "outputs": [
    {
     "data": {
      "text/plain": [
       "sklearn.utils.Bunch"
      ]
     },
     "execution_count": 36,
     "metadata": {},
     "output_type": "execute_result"
    }
   ],
   "source": [
    "boston=load_boston()\n",
    "type(boston)"
   ]
  },
  {
   "cell_type": "code",
   "execution_count": 37,
   "metadata": {},
   "outputs": [
    {
     "data": {
      "text/html": [
       "<div>\n",
       "<style scoped>\n",
       "    .dataframe tbody tr th:only-of-type {\n",
       "        vertical-align: middle;\n",
       "    }\n",
       "\n",
       "    .dataframe tbody tr th {\n",
       "        vertical-align: top;\n",
       "    }\n",
       "\n",
       "    .dataframe thead th {\n",
       "        text-align: right;\n",
       "    }\n",
       "</style>\n",
       "<table border=\"1\" class=\"dataframe\">\n",
       "  <thead>\n",
       "    <tr style=\"text-align: right;\">\n",
       "      <th></th>\n",
       "      <th>CRIM</th>\n",
       "      <th>ZN</th>\n",
       "      <th>INDUS</th>\n",
       "      <th>CHAS</th>\n",
       "      <th>NOX</th>\n",
       "      <th>RM</th>\n",
       "      <th>AGE</th>\n",
       "      <th>DIS</th>\n",
       "      <th>RAD</th>\n",
       "      <th>TAX</th>\n",
       "      <th>PTRATIO</th>\n",
       "      <th>B</th>\n",
       "      <th>LSTAT</th>\n",
       "    </tr>\n",
       "  </thead>\n",
       "  <tbody>\n",
       "    <tr>\n",
       "      <td>0</td>\n",
       "      <td>0.00632</td>\n",
       "      <td>18.0</td>\n",
       "      <td>2.31</td>\n",
       "      <td>0.0</td>\n",
       "      <td>0.538</td>\n",
       "      <td>6.575</td>\n",
       "      <td>65.2</td>\n",
       "      <td>4.0900</td>\n",
       "      <td>1.0</td>\n",
       "      <td>296.0</td>\n",
       "      <td>15.3</td>\n",
       "      <td>396.90</td>\n",
       "      <td>4.98</td>\n",
       "    </tr>\n",
       "    <tr>\n",
       "      <td>1</td>\n",
       "      <td>0.02731</td>\n",
       "      <td>0.0</td>\n",
       "      <td>7.07</td>\n",
       "      <td>0.0</td>\n",
       "      <td>0.469</td>\n",
       "      <td>6.421</td>\n",
       "      <td>78.9</td>\n",
       "      <td>4.9671</td>\n",
       "      <td>2.0</td>\n",
       "      <td>242.0</td>\n",
       "      <td>17.8</td>\n",
       "      <td>396.90</td>\n",
       "      <td>9.14</td>\n",
       "    </tr>\n",
       "    <tr>\n",
       "      <td>2</td>\n",
       "      <td>0.02729</td>\n",
       "      <td>0.0</td>\n",
       "      <td>7.07</td>\n",
       "      <td>0.0</td>\n",
       "      <td>0.469</td>\n",
       "      <td>7.185</td>\n",
       "      <td>61.1</td>\n",
       "      <td>4.9671</td>\n",
       "      <td>2.0</td>\n",
       "      <td>242.0</td>\n",
       "      <td>17.8</td>\n",
       "      <td>392.83</td>\n",
       "      <td>4.03</td>\n",
       "    </tr>\n",
       "    <tr>\n",
       "      <td>3</td>\n",
       "      <td>0.03237</td>\n",
       "      <td>0.0</td>\n",
       "      <td>2.18</td>\n",
       "      <td>0.0</td>\n",
       "      <td>0.458</td>\n",
       "      <td>6.998</td>\n",
       "      <td>45.8</td>\n",
       "      <td>6.0622</td>\n",
       "      <td>3.0</td>\n",
       "      <td>222.0</td>\n",
       "      <td>18.7</td>\n",
       "      <td>394.63</td>\n",
       "      <td>2.94</td>\n",
       "    </tr>\n",
       "    <tr>\n",
       "      <td>4</td>\n",
       "      <td>0.06905</td>\n",
       "      <td>0.0</td>\n",
       "      <td>2.18</td>\n",
       "      <td>0.0</td>\n",
       "      <td>0.458</td>\n",
       "      <td>7.147</td>\n",
       "      <td>54.2</td>\n",
       "      <td>6.0622</td>\n",
       "      <td>3.0</td>\n",
       "      <td>222.0</td>\n",
       "      <td>18.7</td>\n",
       "      <td>396.90</td>\n",
       "      <td>5.33</td>\n",
       "    </tr>\n",
       "  </tbody>\n",
       "</table>\n",
       "</div>"
      ],
      "text/plain": [
       "      CRIM    ZN  INDUS  CHAS    NOX     RM   AGE     DIS  RAD    TAX  \\\n",
       "0  0.00632  18.0   2.31   0.0  0.538  6.575  65.2  4.0900  1.0  296.0   \n",
       "1  0.02731   0.0   7.07   0.0  0.469  6.421  78.9  4.9671  2.0  242.0   \n",
       "2  0.02729   0.0   7.07   0.0  0.469  7.185  61.1  4.9671  2.0  242.0   \n",
       "3  0.03237   0.0   2.18   0.0  0.458  6.998  45.8  6.0622  3.0  222.0   \n",
       "4  0.06905   0.0   2.18   0.0  0.458  7.147  54.2  6.0622  3.0  222.0   \n",
       "\n",
       "   PTRATIO       B  LSTAT  \n",
       "0     15.3  396.90   4.98  \n",
       "1     17.8  396.90   9.14  \n",
       "2     17.8  392.83   4.03  \n",
       "3     18.7  394.63   2.94  \n",
       "4     18.7  396.90   5.33  "
      ]
     },
     "execution_count": 37,
     "metadata": {},
     "output_type": "execute_result"
    }
   ],
   "source": [
    "boston_df=pd.DataFrame(boston.data,columns=boston.feature_names)\n",
    "boston_df.head()"
   ]
  },
  {
   "cell_type": "code",
   "execution_count": 38,
   "metadata": {},
   "outputs": [
    {
     "data": {
      "text/html": [
       "<div>\n",
       "<style scoped>\n",
       "    .dataframe tbody tr th:only-of-type {\n",
       "        vertical-align: middle;\n",
       "    }\n",
       "\n",
       "    .dataframe tbody tr th {\n",
       "        vertical-align: top;\n",
       "    }\n",
       "\n",
       "    .dataframe thead th {\n",
       "        text-align: right;\n",
       "    }\n",
       "</style>\n",
       "<table border=\"1\" class=\"dataframe\">\n",
       "  <thead>\n",
       "    <tr style=\"text-align: right;\">\n",
       "      <th></th>\n",
       "      <th>CRIM</th>\n",
       "      <th>ZN</th>\n",
       "      <th>INDUS</th>\n",
       "      <th>CHAS</th>\n",
       "      <th>NOX</th>\n",
       "      <th>RM</th>\n",
       "      <th>AGE</th>\n",
       "      <th>DIS</th>\n",
       "      <th>RAD</th>\n",
       "      <th>TAX</th>\n",
       "      <th>PTRATIO</th>\n",
       "      <th>B</th>\n",
       "      <th>LSTAT</th>\n",
       "      <th>price</th>\n",
       "    </tr>\n",
       "  </thead>\n",
       "  <tbody>\n",
       "    <tr>\n",
       "      <td>0</td>\n",
       "      <td>0.00632</td>\n",
       "      <td>18.0</td>\n",
       "      <td>2.31</td>\n",
       "      <td>0.0</td>\n",
       "      <td>0.538</td>\n",
       "      <td>6.575</td>\n",
       "      <td>65.2</td>\n",
       "      <td>4.0900</td>\n",
       "      <td>1.0</td>\n",
       "      <td>296.0</td>\n",
       "      <td>15.3</td>\n",
       "      <td>396.90</td>\n",
       "      <td>4.98</td>\n",
       "      <td>24.0</td>\n",
       "    </tr>\n",
       "    <tr>\n",
       "      <td>1</td>\n",
       "      <td>0.02731</td>\n",
       "      <td>0.0</td>\n",
       "      <td>7.07</td>\n",
       "      <td>0.0</td>\n",
       "      <td>0.469</td>\n",
       "      <td>6.421</td>\n",
       "      <td>78.9</td>\n",
       "      <td>4.9671</td>\n",
       "      <td>2.0</td>\n",
       "      <td>242.0</td>\n",
       "      <td>17.8</td>\n",
       "      <td>396.90</td>\n",
       "      <td>9.14</td>\n",
       "      <td>21.6</td>\n",
       "    </tr>\n",
       "    <tr>\n",
       "      <td>2</td>\n",
       "      <td>0.02729</td>\n",
       "      <td>0.0</td>\n",
       "      <td>7.07</td>\n",
       "      <td>0.0</td>\n",
       "      <td>0.469</td>\n",
       "      <td>7.185</td>\n",
       "      <td>61.1</td>\n",
       "      <td>4.9671</td>\n",
       "      <td>2.0</td>\n",
       "      <td>242.0</td>\n",
       "      <td>17.8</td>\n",
       "      <td>392.83</td>\n",
       "      <td>4.03</td>\n",
       "      <td>34.7</td>\n",
       "    </tr>\n",
       "    <tr>\n",
       "      <td>3</td>\n",
       "      <td>0.03237</td>\n",
       "      <td>0.0</td>\n",
       "      <td>2.18</td>\n",
       "      <td>0.0</td>\n",
       "      <td>0.458</td>\n",
       "      <td>6.998</td>\n",
       "      <td>45.8</td>\n",
       "      <td>6.0622</td>\n",
       "      <td>3.0</td>\n",
       "      <td>222.0</td>\n",
       "      <td>18.7</td>\n",
       "      <td>394.63</td>\n",
       "      <td>2.94</td>\n",
       "      <td>33.4</td>\n",
       "    </tr>\n",
       "    <tr>\n",
       "      <td>4</td>\n",
       "      <td>0.06905</td>\n",
       "      <td>0.0</td>\n",
       "      <td>2.18</td>\n",
       "      <td>0.0</td>\n",
       "      <td>0.458</td>\n",
       "      <td>7.147</td>\n",
       "      <td>54.2</td>\n",
       "      <td>6.0622</td>\n",
       "      <td>3.0</td>\n",
       "      <td>222.0</td>\n",
       "      <td>18.7</td>\n",
       "      <td>396.90</td>\n",
       "      <td>5.33</td>\n",
       "      <td>36.2</td>\n",
       "    </tr>\n",
       "  </tbody>\n",
       "</table>\n",
       "</div>"
      ],
      "text/plain": [
       "      CRIM    ZN  INDUS  CHAS    NOX     RM   AGE     DIS  RAD    TAX  \\\n",
       "0  0.00632  18.0   2.31   0.0  0.538  6.575  65.2  4.0900  1.0  296.0   \n",
       "1  0.02731   0.0   7.07   0.0  0.469  6.421  78.9  4.9671  2.0  242.0   \n",
       "2  0.02729   0.0   7.07   0.0  0.469  7.185  61.1  4.9671  2.0  242.0   \n",
       "3  0.03237   0.0   2.18   0.0  0.458  6.998  45.8  6.0622  3.0  222.0   \n",
       "4  0.06905   0.0   2.18   0.0  0.458  7.147  54.2  6.0622  3.0  222.0   \n",
       "\n",
       "   PTRATIO       B  LSTAT  price  \n",
       "0     15.3  396.90   4.98   24.0  \n",
       "1     17.8  396.90   9.14   21.6  \n",
       "2     17.8  392.83   4.03   34.7  \n",
       "3     18.7  394.63   2.94   33.4  \n",
       "4     18.7  396.90   5.33   36.2  "
      ]
     },
     "execution_count": 38,
     "metadata": {},
     "output_type": "execute_result"
    }
   ],
   "source": [
    "boston_df['price']=boston.target                    # to get dependent variable\n",
    "boston_df.head()"
   ]
  },
  {
   "cell_type": "code",
   "execution_count": 41,
   "metadata": {},
   "outputs": [],
   "source": [
    "x=boston_df.drop('price',axis=1)\n",
    "x.head(3)\n",
    "y=boston_df['price']"
   ]
  },
  {
   "cell_type": "code",
   "execution_count": 42,
   "metadata": {},
   "outputs": [
    {
     "name": "stdout",
     "output_type": "stream",
     "text": [
      "         CRIM    ZN  INDUS  CHAS    NOX     RM   AGE     DIS   RAD    TAX  \\\n",
      "220   0.35809   0.0   6.20   1.0  0.507  6.951  88.5  2.8617   8.0  307.0   \n",
      "71    0.15876   0.0  10.81   0.0  0.413  5.961  17.5  5.2873   4.0  305.0   \n",
      "240   0.11329  30.0   4.93   0.0  0.428  6.897  54.3  6.3361   6.0  300.0   \n",
      "6     0.08829  12.5   7.87   0.0  0.524  6.012  66.6  5.5605   5.0  311.0   \n",
      "417  25.94060   0.0  18.10   0.0  0.679  5.304  89.1  1.6475  24.0  666.0   \n",
      "\n",
      "     PTRATIO       B  LSTAT  \n",
      "220     17.4  391.70   9.71  \n",
      "71      19.2  376.94   9.88  \n",
      "240     16.6  391.25  11.38  \n",
      "6       15.2  395.60  12.43  \n",
      "417     20.2  127.36  26.64  \n"
     ]
    }
   ],
   "source": [
    "x_train,x_test,y_train,y_test=train_test_split(x,y,test_size=0.2,random_state=0)\n",
    "#80% training data , 20% test data\n",
    "\n",
    "print(x_train[:5])"
   ]
  },
  {
   "cell_type": "code",
   "execution_count": 43,
   "metadata": {},
   "outputs": [],
   "source": [
    "# fitting the regression model\n",
    "reg= LinearRegression()\n",
    "reg= reg.fit(x_train,y_train)"
   ]
  },
  {
   "cell_type": "code",
   "execution_count": 44,
   "metadata": {},
   "outputs": [
    {
     "name": "stdout",
     "output_type": "stream",
     "text": [
      "a1= [-1.19443447e-01  4.47799511e-02  5.48526168e-03  2.34080361e+00\n",
      " -1.61236043e+01  3.70870901e+00 -3.12108178e-03 -1.38639737e+00\n",
      "  2.44178327e-01 -1.09896366e-02 -1.04592119e+00  8.11010693e-03\n",
      " -4.92792725e-01]\n",
      "a0= 38.09169492630278\n"
     ]
    }
   ],
   "source": [
    "print(\"a1=\",reg.coef_)\n",
    "print(\"a0=\",reg.intercept_)"
   ]
  },
  {
   "cell_type": "code",
   "execution_count": 60,
   "metadata": {},
   "outputs": [
    {
     "name": "stdout",
     "output_type": "stream",
     "text": [
      "329    22.6\n",
      "371    50.0\n",
      "219    23.0\n",
      "403     8.3\n",
      "78     21.2\n",
      "       ... \n",
      "56     24.7\n",
      "455    14.1\n",
      "60     18.7\n",
      "213    28.1\n",
      "108    19.8\n",
      "Name: price, Length: 102, dtype: float64\n",
      "[24.88963777 23.72141085 29.36499868 12.12238621 21.44382254 19.2834443\n",
      " 20.49647539 21.36099298 18.8967118  19.9280658   5.12703513 16.3867396\n",
      " 17.07776485  5.59375659 39.99636726 32.49654668 22.45798809 36.85192327\n",
      " 30.86401089 23.15140009 24.77495789 24.67187756 20.59543752 30.35369168\n",
      " 22.41940736 10.23266565 17.64816865 18.27419652 35.53362541 20.96084724\n",
      " 18.30413012 17.79262072 19.96561663 24.06127231 29.10204874 19.27774123\n",
      " 11.15536648 24.57560579 17.5862644  15.49454112 26.20577527 20.86304693\n",
      " 22.31460516 15.60710156 23.00363104 25.17247952 20.11459464 22.90256276\n",
      " 10.0380507  24.28515123 20.94127711 17.35258791 24.52235405 29.95143046\n",
      " 13.42695877 21.72673066 20.7897053  15.49668805 13.98982601 22.18377874\n",
      " 17.73047814 21.58869165 32.90522136 31.11235671 17.73252635 32.76358681\n",
      " 18.7124637  19.78693475 19.02958927 22.89825374 22.96041622 24.02555703\n",
      " 30.72859326 28.83142691 25.89957059  5.23251817 36.72183202 23.77267249\n",
      " 27.26856352 19.29492159 28.62304496 19.17978838 18.97185995 37.82397662\n",
      " 39.22012647 23.71261106 24.93076217 15.88545417 26.09845751 16.68819641\n",
      " 15.83515991 13.10775597 24.71583588 31.25165267 22.16640989 20.25087212\n",
      "  0.59025319 25.44217132 15.57178328 17.93719475 25.30588844 22.3732326 ]\n"
     ]
    }
   ],
   "source": [
    "#prediction\n",
    "y_pred=reg.predict(x_test)\n",
    "print(y_test)\n",
    "print(y_pred)"
   ]
  },
  {
   "cell_type": "markdown",
   "metadata": {},
   "source": [
    "### ways of improving the accuracy of a linear regression model?\n",
    "There could be multiple ways of improving the accuracy of a linear regression, most commonly used ways are as follows:\n",
    "1.\tOutlier Treatment:\n",
    "-Regression is sensitive to outliers, hence it becomes very important to treat the outliers with appropriate values. \n",
    "Replacing the values with mean, median, mode or percentile depending on the distribution can prove to be useful.\n"
   ]
  },
  {
   "cell_type": "code",
   "execution_count": 46,
   "metadata": {},
   "outputs": [],
   "source": [
    "from sklearn.metrics import r2_score,mean_squared_error"
   ]
  },
  {
   "cell_type": "code",
   "execution_count": 47,
   "metadata": {},
   "outputs": [
    {
     "name": "stdout",
     "output_type": "stream",
     "text": [
      "RMSE= 5.783509315085134\n"
     ]
    }
   ],
   "source": [
    "rmse= np.sqrt(mean_squared_error(y_test,y_pred))\n",
    "print('RMSE=',rmse)"
   ]
  },
  {
   "cell_type": "code",
   "execution_count": 61,
   "metadata": {},
   "outputs": [
    {
     "name": "stdout",
     "output_type": "stream",
     "text": [
      "regression score= 0.589222384918251\n"
     ]
    }
   ],
   "source": [
    "r2= r2_score(y_test,y_pred)\n",
    "print('regression score=',r2)"
   ]
  },
  {
   "cell_type": "markdown",
   "metadata": {},
   "source": [
    "### Overfitting:\n",
    "reasons for overfitting:\n",
    "1. insufficient data in training the model:\n",
    "    to overcome this, we may need to use more data for training\n",
    "2. imprper set of attributes are used or more weightage is given to less important attributes: \n",
    "    to overcome this, we may need to do regularization\n",
    "    \n",
    "    \n",
    "    \n",
    "    \n",
    "### How to avoid Overfitting:\n",
    "\n",
    "The commonly used methodologies are:\n",
    "\n",
    "•\tCross- Validation: A standard way to find out-of-sample prediction error is to use 5-fold cross validation.\n",
    "\n",
    "•\tEarly Stopping: Its rules provide us the guidance as to how many iterations can be run before learner begins to over-fit.\n",
    "\n",
    "•\tPruning: Pruning is extensively used while building related models. It simply removes the nodes which add little predictive power for the problem in hand.\n",
    "\n",
    "•\tRegularization: It introduces a cost term for bringing in more features with the objective function. Hence it tries to push the coefficients for many variables to zero and hence reduce cost term.\n"
   ]
  },
  {
   "cell_type": "code",
   "execution_count": 59,
   "metadata": {},
   "outputs": [
    {
     "name": "stdout",
     "output_type": "stream",
     "text": [
      "regression score= 0.7730135569264234\n"
     ]
    }
   ],
   "source": [
    "y_pred_train=reg.predict(x_train)\n",
    "\n",
    "r2_train= r2_score(y_train,y_pred_train)\n",
    "print('regression score=',r2_train) #r2 for train data"
   ]
  },
  {
   "cell_type": "markdown",
   "metadata": {},
   "source": [
    "from above we can see, \n",
    "r2 for test data is = 0.5892\n",
    "r2 for train data is = 0.7730\n",
    "so, this is an example of overfitting\n",
    "\n",
    "increase the train data size to 85% then check the r2: for this, r2 value is degrading though increasing train data size. so 2nd reason for overfitting is the reason here"
   ]
  },
  {
   "cell_type": "markdown",
   "metadata": {},
   "source": [
    "# Regularization\n",
    "\n",
    "https://www.analyticsvidhya.com/blog/2016/01/ridge-lasso-regression-python-complete-tutorial/\n"
   ]
  },
  {
   "cell_type": "markdown",
   "metadata": {},
   "source": [
    "### What is the use of regularisation? Explain L1 and L2 regularisations.\n",
    "Regularisation is a technique that is used to tackle the problem of overfitting of the model. \n",
    "When a very complex model is implemented on the training data, it overfits. \n",
    "At times, the simple model might not be able to generalise the data and the complex model overfits. \n",
    "To address this problem, regularisation is used.\n",
    "Regularisation is nothing but adding the coefficient terms (betas) to the cost function so that the terms are \n",
    "penalised and are small in magnitude. This essentially helps in capturing the trends in the data and at the \n",
    "same time prevents overfitting by not letting the model become too complex.\n",
    "\n",
    "•\tL1 or LASSO regularisation: Here, the absolute values of the coefficients are added to the cost function. \n",
    "    This can be seen in the following equation; the highlighted part corresponds to the L1 or LASSO regularisation. \n",
    "    This regularisation technique gives sparse results, which lead to feature selection as well.\n",
    " \n",
    "•\tL2 or Ridge regularisation: Here, the squares of the coefficients are added to the cost function. \n",
    "    This can be seen in the following equation, where the highlighted part corresponds to the L2 or Ridge regularisation.\n",
    " \n"
   ]
  },
  {
   "cell_type": "code",
   "execution_count": 62,
   "metadata": {},
   "outputs": [
    {
     "data": {
      "text/plain": [
       "Index(['CRIM', 'ZN', 'INDUS', 'CHAS', 'NOX', 'RM', 'AGE', 'DIS', 'RAD', 'TAX',\n",
       "       'PTRATIO', 'B', 'LSTAT'],\n",
       "      dtype='object')"
      ]
     },
     "execution_count": 62,
     "metadata": {},
     "output_type": "execute_result"
    }
   ],
   "source": [
    "predictors= x_train.columns\n",
    "predictors"
   ]
  },
  {
   "cell_type": "code",
   "execution_count": 63,
   "metadata": {},
   "outputs": [
    {
     "data": {
      "text/plain": [
       "NOX       -16.123604\n",
       "DIS        -1.386397\n",
       "PTRATIO    -1.045921\n",
       "LSTAT      -0.492793\n",
       "CRIM       -0.119443\n",
       "TAX        -0.010990\n",
       "AGE        -0.003121\n",
       "INDUS       0.005485\n",
       "B           0.008110\n",
       "ZN          0.044780\n",
       "RAD         0.244178\n",
       "CHAS        2.340804\n",
       "RM          3.708709\n",
       "dtype: float64"
      ]
     },
     "execution_count": 63,
     "metadata": {},
     "output_type": "execute_result"
    }
   ],
   "source": [
    "coef = pd.Series(reg.coef_, predictors).sort_values()\n",
    "coef"
   ]
  },
  {
   "cell_type": "code",
   "execution_count": 65,
   "metadata": {},
   "outputs": [
    {
     "data": {
      "text/plain": [
       "<matplotlib.axes._subplots.AxesSubplot at 0x21a96008188>"
      ]
     },
     "execution_count": 65,
     "metadata": {},
     "output_type": "execute_result"
    },
    {
     "data": {
      "image/png": "[encoded data removed]",
      "text/plain": [
       "<Figure size 432x288 with 1 Axes>"
      ]
     },
     "metadata": {
      "needs_background": "light"
     },
     "output_type": "display_data"
    }
   ],
   "source": [
    "coef.plot(kind = 'bar',title = 'Modal coefficient')"
   ]
  },
  {
   "cell_type": "markdown",
   "metadata": {},
   "source": [
    "## How to choose the value of the regularisation parameter (λ)?\n",
    "Selecting the regularisation parameter is a tricky business. If the value of λ is too high, \n",
    "it will lead to extremely small values of the regression coefficient β, which will lead to the model \n",
    "underfitting (high bias – low variance). On the other hand, if the value of λ is 0 (very small), \n",
    "the model will tend to overfit the training data (low bias – high variance).\n",
    "\n",
    "There is no proper way to select the value of λ. What you can do is have a sub-sample of data and \n",
    "run the algorithm multiple times on different sets. Here, the person has to decide how much variance \n",
    "can be tolerated. Once the user is satisfied with the variance, that value of λ can be chosen for the full dataset.\n",
    "One thing to be noted is that the value of λ selected here was optimal for that subset, not for the entire training data.\n"
   ]
  },
  {
   "cell_type": "markdown",
   "metadata": {},
   "source": [
    "# Ridge Regression / L2 Regularization"
   ]
  },
  {
   "cell_type": "markdown",
   "metadata": {},
   "source": [
    "### Ridge Regression\n",
    "Ridge Regression is a technique used when the data suffers from multicollinearity \n",
    "(independent variables are highly correlated). In multicollinearity, even though the least squares estimates \n",
    "(OLS) are unbiased, their variances are large which deviates the observed value far from the true value. \n",
    "By adding a degree of bias to the regression estimates, ridge regression reduces the standard errors.\n",
    "\n",
    "Above, we saw the equation for linear regression. Remember? It can be represented as:\n",
    "\n",
    "y=a+ b*x\n",
    "\n",
    "This equation also has an error term. The complete equation becomes:\n",
    "\n",
    "\n",
    "y=a+b*x+e (error term),  [error term is the value needed to correct for a prediction error between the \n",
    "                          observed and predicted value]\n",
    "                          \n",
    "=> y=a+y= a+ b1x1+ b2x2+....+e, for multiple independent variables.\n",
    "\n",
    "In a linear equation, prediction errors can be decomposed into two sub components. First is due to the biased \n",
    "and second is due to the variance. Prediction error can occur due to any one of these two or both components. \n",
    "Here, we’ll discuss about the error caused due to variance.\n",
    "\n",
    "Ridge regression solves the multicollinearity problem through shrinkage parameter λ (lambda). Look at the equation below.\n",
    "<img src ='Ridge2.webp'>\n",
    "\n",
    "ridge regression, l2 regularization\n",
    "\n",
    "In this equation, we have two components. First one is least square term and other one is lambda of the summation of \n",
    "β2 (beta- square) where β is the coefficient. This is added to least square term in order to shrink the parameter to \n",
    "have a very low variance.\n",
    "\n",
    "Important Points:\n",
    "The assumptions of this regression is same as least squared regression except normality is not to be assumed\n",
    "Ridge regression shrinks the value of coefficients but doesn’t reaches zero, which suggests no feature selection feature\n",
    "This is a regularization method and uses l2 regularization."
   ]
  },
  {
   "cell_type": "markdown",
   "metadata": {},
   "source": [
    "Alpha is hyperparameter of Ridge, which means that they are not automatically learned by the model instead they have to be set manually. \n",
    "and as alpha tends to zero, the model tends to become linear regressi\n"
   ]
  },
  {
   "cell_type": "code",
   "execution_count": null,
   "metadata": {},
   "outputs": [],
   "source": [
    "# coef of important variables are adjusted (increased) and for non important variables decreased"
   ]
  },
  {
   "cell_type": "code",
   "execution_count": 79,
   "metadata": {},
   "outputs": [
    {
     "name": "stdout",
     "output_type": "stream",
     "text": [
      "rmse= 5.786600507471575 r2= 0.5887831595590791\n"
     ]
    }
   ],
   "source": [
    "from sklearn.linear_model import Ridge, Lasso\n",
    "#alpha range=[0.01, 0.05, 0.5]\n",
    "\n",
    "ridgereg = Ridge(alpha = 0.001, normalize = True)     # change alpha value \n",
    "ridgereg.fit(x_train, y_train)\n",
    "pred = ridgereg.predict(x_test)\n",
    "rmse = np.sqrt(mean_squared_error(y_test,pred))\n",
    "r2= r2_score(y_test, pred)\n",
    "print('rmse=', rmse,'r2=',r2)"
   ]
  },
  {
   "cell_type": "code",
   "execution_count": 71,
   "metadata": {},
   "outputs": [
    {
     "data": {
      "text/html": [
       "<div>\n",
       "<style scoped>\n",
       "    .dataframe tbody tr th:only-of-type {\n",
       "        vertical-align: middle;\n",
       "    }\n",
       "\n",
       "    .dataframe tbody tr th {\n",
       "        vertical-align: top;\n",
       "    }\n",
       "\n",
       "    .dataframe thead th {\n",
       "        text-align: right;\n",
       "    }\n",
       "</style>\n",
       "<table border=\"1\" class=\"dataframe\">\n",
       "  <thead>\n",
       "    <tr style=\"text-align: right;\">\n",
       "      <th></th>\n",
       "      <th>Linear reg</th>\n",
       "      <th>Ridge reg</th>\n",
       "    </tr>\n",
       "  </thead>\n",
       "  <tbody>\n",
       "    <tr>\n",
       "      <td>0</td>\n",
       "      <td>-0.119443</td>\n",
       "      <td>-0.115518</td>\n",
       "    </tr>\n",
       "    <tr>\n",
       "      <td>1</td>\n",
       "      <td>0.044780</td>\n",
       "      <td>0.042209</td>\n",
       "    </tr>\n",
       "    <tr>\n",
       "      <td>2</td>\n",
       "      <td>0.005485</td>\n",
       "      <td>-0.008247</td>\n",
       "    </tr>\n",
       "    <tr>\n",
       "      <td>3</td>\n",
       "      <td>2.340804</td>\n",
       "      <td>2.400948</td>\n",
       "    </tr>\n",
       "    <tr>\n",
       "      <td>4</td>\n",
       "      <td>-16.123604</td>\n",
       "      <td>-14.968214</td>\n",
       "    </tr>\n",
       "    <tr>\n",
       "      <td>5</td>\n",
       "      <td>3.708709</td>\n",
       "      <td>3.764608</td>\n",
       "    </tr>\n",
       "    <tr>\n",
       "      <td>6</td>\n",
       "      <td>-0.003121</td>\n",
       "      <td>-0.004116</td>\n",
       "    </tr>\n",
       "    <tr>\n",
       "      <td>7</td>\n",
       "      <td>-1.386397</td>\n",
       "      <td>-1.325265</td>\n",
       "    </tr>\n",
       "    <tr>\n",
       "      <td>8</td>\n",
       "      <td>0.244178</td>\n",
       "      <td>0.212107</td>\n",
       "    </tr>\n",
       "    <tr>\n",
       "      <td>9</td>\n",
       "      <td>-0.010990</td>\n",
       "      <td>-0.009531</td>\n",
       "    </tr>\n",
       "    <tr>\n",
       "      <td>10</td>\n",
       "      <td>-1.045921</td>\n",
       "      <td>-1.029205</td>\n",
       "    </tr>\n",
       "    <tr>\n",
       "      <td>11</td>\n",
       "      <td>0.008110</td>\n",
       "      <td>0.008117</td>\n",
       "    </tr>\n",
       "    <tr>\n",
       "      <td>12</td>\n",
       "      <td>-0.492793</td>\n",
       "      <td>-0.484041</td>\n",
       "    </tr>\n",
       "  </tbody>\n",
       "</table>\n",
       "</div>"
      ],
      "text/plain": [
       "    Linear reg  Ridge reg\n",
       "0    -0.119443  -0.115518\n",
       "1     0.044780   0.042209\n",
       "2     0.005485  -0.008247\n",
       "3     2.340804   2.400948\n",
       "4   -16.123604 -14.968214\n",
       "5     3.708709   3.764608\n",
       "6    -0.003121  -0.004116\n",
       "7    -1.386397  -1.325265\n",
       "8     0.244178   0.212107\n",
       "9    -0.010990  -0.009531\n",
       "10   -1.045921  -1.029205\n",
       "11    0.008110   0.008117\n",
       "12   -0.492793  -0.484041"
      ]
     },
     "execution_count": 71,
     "metadata": {},
     "output_type": "execute_result"
    }
   ],
   "source": [
    "df = pd.DataFrame(columns=['Linear reg', 'Ridge reg'])\n",
    "\n",
    "for i in range(len(ridgereg.coef_)):\n",
    "    df= df.append({'Linear reg':reg.coef_[i], 'Ridge reg':ridgereg.coef_[i]}, ignore_index= True)\n",
    "    \n",
    "df"
   ]
  },
  {
   "cell_type": "code",
   "execution_count": 80,
   "metadata": {},
   "outputs": [
    {
     "data": {
      "text/plain": [
       "<matplotlib.axes._subplots.AxesSubplot at 0x21a99c48808>"
      ]
     },
     "execution_count": 80,
     "metadata": {},
     "output_type": "execute_result"
    },
    {
     "data": {
      "image/png": "[encoded data removed]",
      "text/plain": [
       "<Figure size 432x288 with 1 Axes>"
      ]
     },
     "metadata": {
      "needs_background": "light"
     },
     "output_type": "display_data"
    }
   ],
   "source": [
    "predictors= x_train.columns\n",
    "coef = pd.Series(ridgereg.coef_, predictors).sort_values()\n",
    "coef.plot(kind = 'bar',title = 'Modal coefficient')"
   ]
  },
  {
   "cell_type": "code",
   "execution_count": 81,
   "metadata": {},
   "outputs": [],
   "source": [
    "# for this data, rodge reg is not giving good pred"
   ]
  },
  {
   "cell_type": "markdown",
   "metadata": {},
   "source": [
    "# Lasso Regression / L1 regression\n",
    "\n",
    "<img src= 'Lasso.webp'>\n",
    "Similar to Ridge Regression, Lasso (Least Absolute Shrinkage and Selection Operator) also penalizes the absolute size of the regression coefficients. In addition, it is capable of reducing the variability and improving the accuracy of linear regression models.  Look at the equation below: Lasso regression differs from ridge regression in a way that it uses absolute values in the penalty function, instead of squares. This leads to penalizing (or equivalently constraining the sum of the absolute values of the estimates) values which causes some of the parameter estimates to turn out exactly zero. Larger the penalty applied, further the estimates get shrunk towards absolute zero. This results to variable selection out of given n variables.\n",
    "\n",
    "Important Points:\n",
    "The assumptions of lasso regression is same as least squared regression except normality is not to be assumed\n",
    "Lasso Regression shrinks coefficients to zero (exactly zero), which certainly helps in feature selection\n",
    "Lasso is a regularization method and uses l1 regularization\n",
    "If group of predictors are highly correlated, lasso picks only one of them and shrinks the others to zero"
   ]
  },
  {
   "cell_type": "code",
   "execution_count": null,
   "metadata": {},
   "outputs": [],
   "source": [
    "# eliminates less important variables"
   ]
  },
  {
   "cell_type": "code",
   "execution_count": 90,
   "metadata": {},
   "outputs": [
    {
     "name": "stdout",
     "output_type": "stream",
     "text": [
      "rmse= 5.808077411724805 r2= 0.5857250414078969\n"
     ]
    }
   ],
   "source": [
    "#alpha range=[0.01, 0.05, 0.5]\n",
    "\n",
    "lassoreg = Lasso(alpha = 0.001, normalize = True)     # change alpha value \n",
    "lassoreg.fit(x_train, y_train)\n",
    "pred = lassoreg.predict(x_test)\n",
    "rmse = np.sqrt(mean_squared_error(y_test,pred))\n",
    "r2= r2_score(y_test, pred)\n",
    "print('rmse=', rmse,'r2=',r2)"
   ]
  },
  {
   "cell_type": "code",
   "execution_count": 98,
   "metadata": {},
   "outputs": [
    {
     "data": {
      "text/html": [
       "<div>\n",
       "<style scoped>\n",
       "    .dataframe tbody tr th:only-of-type {\n",
       "        vertical-align: middle;\n",
       "    }\n",
       "\n",
       "    .dataframe tbody tr th {\n",
       "        vertical-align: top;\n",
       "    }\n",
       "\n",
       "    .dataframe thead th {\n",
       "        text-align: right;\n",
       "    }\n",
       "</style>\n",
       "<table border=\"1\" class=\"dataframe\">\n",
       "  <thead>\n",
       "    <tr style=\"text-align: right;\">\n",
       "      <th></th>\n",
       "      <th>Linear reg</th>\n",
       "      <th>Ridge reg</th>\n",
       "      <th>Lasso reg</th>\n",
       "    </tr>\n",
       "  </thead>\n",
       "  <tbody>\n",
       "    <tr>\n",
       "      <td>0</td>\n",
       "      <td>-0.119443</td>\n",
       "      <td>-0.119011</td>\n",
       "      <td>-0.111736</td>\n",
       "    </tr>\n",
       "    <tr>\n",
       "      <td>1</td>\n",
       "      <td>0.044780</td>\n",
       "      <td>0.044497</td>\n",
       "      <td>0.041836</td>\n",
       "    </tr>\n",
       "    <tr>\n",
       "      <td>2</td>\n",
       "      <td>0.005485</td>\n",
       "      <td>0.003907</td>\n",
       "      <td>-0.000000</td>\n",
       "    </tr>\n",
       "    <tr>\n",
       "      <td>3</td>\n",
       "      <td>2.340804</td>\n",
       "      <td>2.347657</td>\n",
       "      <td>2.336289</td>\n",
       "    </tr>\n",
       "    <tr>\n",
       "      <td>4</td>\n",
       "      <td>-16.123604</td>\n",
       "      <td>-15.999080</td>\n",
       "      <td>-15.299428</td>\n",
       "    </tr>\n",
       "    <tr>\n",
       "      <td>5</td>\n",
       "      <td>3.708709</td>\n",
       "      <td>3.714983</td>\n",
       "      <td>3.747444</td>\n",
       "    </tr>\n",
       "    <tr>\n",
       "      <td>6</td>\n",
       "      <td>-0.003121</td>\n",
       "      <td>-0.003232</td>\n",
       "      <td>-0.001773</td>\n",
       "    </tr>\n",
       "    <tr>\n",
       "      <td>7</td>\n",
       "      <td>-1.386397</td>\n",
       "      <td>-1.379994</td>\n",
       "      <td>-1.311913</td>\n",
       "    </tr>\n",
       "    <tr>\n",
       "      <td>8</td>\n",
       "      <td>0.244178</td>\n",
       "      <td>0.240552</td>\n",
       "      <td>0.209805</td>\n",
       "    </tr>\n",
       "    <tr>\n",
       "      <td>9</td>\n",
       "      <td>-0.010990</td>\n",
       "      <td>-0.010822</td>\n",
       "      <td>-0.009537</td>\n",
       "    </tr>\n",
       "    <tr>\n",
       "      <td>10</td>\n",
       "      <td>-1.045921</td>\n",
       "      <td>-1.044136</td>\n",
       "      <td>-1.034956</td>\n",
       "    </tr>\n",
       "    <tr>\n",
       "      <td>11</td>\n",
       "      <td>0.008110</td>\n",
       "      <td>0.008111</td>\n",
       "      <td>0.007832</td>\n",
       "    </tr>\n",
       "    <tr>\n",
       "      <td>12</td>\n",
       "      <td>-0.492793</td>\n",
       "      <td>-0.491878</td>\n",
       "      <td>-0.494384</td>\n",
       "    </tr>\n",
       "  </tbody>\n",
       "</table>\n",
       "</div>"
      ],
      "text/plain": [
       "    Linear reg  Ridge reg  Lasso reg\n",
       "0    -0.119443  -0.119011  -0.111736\n",
       "1     0.044780   0.044497   0.041836\n",
       "2     0.005485   0.003907  -0.000000\n",
       "3     2.340804   2.347657   2.336289\n",
       "4   -16.123604 -15.999080 -15.299428\n",
       "5     3.708709   3.714983   3.747444\n",
       "6    -0.003121  -0.003232  -0.001773\n",
       "7    -1.386397  -1.379994  -1.311913\n",
       "8     0.244178   0.240552   0.209805\n",
       "9    -0.010990  -0.010822  -0.009537\n",
       "10   -1.045921  -1.044136  -1.034956\n",
       "11    0.008110   0.008111   0.007832\n",
       "12   -0.492793  -0.491878  -0.494384"
      ]
     },
     "execution_count": 98,
     "metadata": {},
     "output_type": "execute_result"
    }
   ],
   "source": [
    "df = pd.DataFrame(columns=['Linear reg', 'Ridge reg','Lasso reg'])\n",
    "\n",
    "for i in range(len(ridgereg.coef_)):\n",
    "    df= df.append({'Linear reg':reg.coef_[i], 'Ridge reg':ridgereg.coef_[i], 'Lasso reg':lassoreg.coef_[i]}, ignore_index= True)\n",
    "    \n",
    "df"
   ]
  },
  {
   "cell_type": "code",
   "execution_count": 88,
   "metadata": {},
   "outputs": [
    {
     "data": {
      "text/plain": [
       "<matplotlib.axes._subplots.AxesSubplot at 0x21a9a58d808>"
      ]
     },
     "execution_count": 88,
     "metadata": {},
     "output_type": "execute_result"
    },
    {
     "data": {
      "image/png": "[encoded data removed]",
      "text/plain": [
       "<Figure size 432x288 with 1 Axes>"
      ]
     },
     "metadata": {
      "needs_background": "light"
     },
     "output_type": "display_data"
    }
   ],
   "source": [
    "predictors= x_train.columns\n",
    "coef = pd.Series(lassoreg.coef_, predictors).sort_values()\n",
    "coef.plot(kind = 'bar',title = 'Modal coefficient')"
   ]
  },
  {
   "cell_type": "code",
   "execution_count": null,
   "metadata": {},
   "outputs": [],
   "source": []
  }
 ],
 "metadata": {
  "kernelspec": {
   "display_name": "Python 3",
   "language": "python",
   "name": "python3"
  },
  "language_info": {
   "codemirror_mode": {
    "name": "ipython",
    "version": 3
   },
   "file_extension": ".py",
   "mimetype": "text/x-python",
   "name": "python",
   "nbconvert_exporter": "python",
   "pygments_lexer": "ipython3",
   "version": "3.7.4"
  }
 },
 "nbformat": 4,
 "nbformat_minor": 2
}
